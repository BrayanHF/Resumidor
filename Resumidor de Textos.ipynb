{
 "cells": [
  {
   "cell_type": "markdown",
   "id": "07b5faa9",
   "metadata": {},
   "source": [
    "# Aplicación de resumenes con LangChain y OpenAI"
   ]
  },
  {
   "cell_type": "markdown",
   "id": "48fb229c",
   "metadata": {},
   "source": [
    "## Preparando los Datos"
   ]
  },
  {
   "cell_type": "code",
   "execution_count": 1,
   "id": "fc505eb2",
   "metadata": {
    "ExecuteTime": {
     "end_time": "2024-11-21T21:15:47.563098Z",
     "start_time": "2024-11-21T21:15:36.855217Z"
    }
   },
   "outputs": [
    {
     "name": "stdout",
     "output_type": "stream",
     "text": [
      "Note: you may need to restart the kernel to use updated packages.\n"
     ]
    }
   ],
   "source": [
    "pip install -r ./requirements.txt -q"
   ]
  },
  {
   "cell_type": "code",
   "execution_count": 2,
   "id": "a157c245",
   "metadata": {},
   "outputs": [],
   "source": [
    "import os\n",
    "from dotenv import load_dotenv, find_dotenv"
   ]
  },
  {
   "cell_type": "code",
   "execution_count": 3,
   "id": "9f99d673",
   "metadata": {},
   "outputs": [
    {
     "data": {
      "text/plain": [
       "True"
      ]
     },
     "execution_count": 3,
     "metadata": {},
     "output_type": "execute_result"
    }
   ],
   "source": [
    "load_dotenv(find_dotenv(), override=True)"
   ]
  },
  {
   "cell_type": "markdown",
   "id": "d9b65560",
   "metadata": {},
   "source": [
    "# Resumen Básico"
   ]
  },
  {
   "cell_type": "code",
   "execution_count": 4,
   "id": "548fb743",
   "metadata": {},
   "outputs": [],
   "source": [
    "texto = \"\"\"\n",
    "La inteligencia artificial (IA), en el contexto de las \n",
    "ciencias de la computación, es una disciplina y un conjunto \n",
    "de capacidades cognoscitivas e intelectuales expresadas por \n",
    "sistemas informáticos o combinaciones de algoritmos cuyo propósito \n",
    "es la creación de máquinas que imiten la inteligencia humana para \n",
    "realizar tareas, y que pueden mejorar conforme recopilan información\n",
    ". A diferencia de la inteligencia sintética, la inteligencia \n",
    "artificial no tiene como finalidad reemplazar a los humanos, \n",
    "sino mejorar significativamente las capacidades y contribuciones \n",
    "de estos. Se hizo presente poco después de la Segunda Guerra \n",
    "Mundial con el desarrollo de la «prueba de Turing», mientras \n",
    "que la locución fue acuñada en 1956 por el informático John \n",
    "McCarthy en la Conferencia de Dartmouth.\n",
    "\n",
    "En la actualidad, la inteligencia artificial abarca una \n",
    "gran variedad de subcampos. Éstos van desde áreas de propósito \n",
    "general, aprendizaje y percepción, a otras más específicas como \n",
    "el reconocimiento de voz, el juego de ajedrez, la demostración \n",
    "de teoremas matemáticos, la escritura de poesía y el diagnóstico \n",
    "de enfermedades. La inteligencia artificial sintetiza y automatiza \n",
    "tareas que en principio son intelectuales y, por lo tanto, es \n",
    "potencialmente relevante para cualquier ámbito de diversas \n",
    "actividades intelectuales humanas. En este sentido, es un campo \n",
    "genuinamente universal.3\n",
    "\n",
    "La arquitectura de las inteligencias artificiales y los procesos \n",
    "por los cuales aprenden, se mejoran y se implementan en algún área \n",
    "de interés varían según el enfoque de utilidad que se les quiera \n",
    "dar, pero de manera general, estos van desde la ejecución de \n",
    "sencillos algoritmos hasta la interconexión de complejas redes \n",
    "neuronales artificiales que intentan replicar los circuitos \n",
    "neuronales del cerebro humano y que aprenden mediante diferentes \n",
    "modelos de aprendizaje tales como el aprendizaje automático, el \n",
    "aprendizaje por refuerzo, el aprendizaje profundo o el aprendizaje \n",
    "supervisado.\n",
    "\n",
    "Por otro lado, el desarrollo y aplicación de la inteligencia \n",
    "artificial en muchos aspectos de la vida cotidiana también ha \n",
    "propiciado la creación de nuevos campos de estudio como la robótica \n",
    "y la ética de las máquinas que abordan aspectos relacionados con \n",
    "la ética en la inteligencia artificial y que se encargan de \n",
    "analizar cómo los avances en este tipo de tecnologías impactarían\n",
    "en diversos ámbitos de la vida, así como el manejo responsable y \n",
    "ético que se les debería dar a los mismos, además de establecer \n",
    "cuál debería ser la manera correcta de proceder de las máquinas y \n",
    "las reglas que deberían cumplir.\n",
    "\n",
    "En cuanto a su clasificación, tradicionalmente se divide a la \n",
    "inteligencia artificial en inteligencia artificial débil, la cual\n",
    "es la única que existe en la actualidad y que se ocupa de realizar \n",
    "tareas específicas, e inteligencia artificial fuerte, que sería \n",
    "una IA que excediese las capacidades humanas. Algunos expertos \n",
    "creen que si alguna vez se alcanza este nivel, se podría dar \n",
    "lugar a la aparición de una singularidad tecnológica, es decir, \n",
    "una entidad tecnológica superior que se mejoraría a sí misma \n",
    "constantemente, volviéndose incontrolable para los humanos, \n",
    "dando pie a teorías como el basilisco de Roko.\n",
    "\n",
    "Algunas de las inteligencias artificiales más conocidas y \n",
    "utilizadas en la actualidad alrededor del mundo incluyen \n",
    "inteligencia artificial en el campo de la salud, asistentes \n",
    "virtuales como Alexa, el asistente de Google o Siri, traductores \n",
    "automáticos como el traductor de Google y DeepL, sistemas de \n",
    "recomendación como el de la plataforma digital de YouTube, motores \n",
    "de ajedrez y otros juegos como Stockfish y AlphaZero, chatbots \n",
    "como ChatGPT, creadores de arte de inteligencia artificial como \n",
    "Midjourney, Dall-e y Stable Diffusion, e incluso la conducción de \n",
    "vehículos autónomos como Tesla Autopilot.\n",
    "\"\"\""
   ]
  },
  {
   "cell_type": "code",
   "execution_count": 5,
   "id": "1745142e",
   "metadata": {},
   "outputs": [],
   "source": [
    "from langchain.chat_models import ChatOpenAI\n",
    "from langchain.schema import(\n",
    "    AIMessage,\n",
    "    HumanMessage,\n",
    "    SystemMessage\n",
    ")"
   ]
  },
  {
   "cell_type": "code",
   "execution_count": 6,
   "id": "95935a75",
   "metadata": {},
   "outputs": [],
   "source": [
    "mensajes = [\n",
    "    SystemMessage(content='Usted es un \"copywriter\" experto con gran experiencia en resumir documentos'),\n",
    "    HumanMessage(content=f'haz un resumen breve y conciso del siguiente texto:\\n Texto: {texto}')\n",
    "]"
   ]
  },
  {
   "cell_type": "code",
   "execution_count": 7,
   "id": "d6e41e57",
   "metadata": {},
   "outputs": [
    {
     "name": "stderr",
     "output_type": "stream",
     "text": [
      "C:\\Users\\Brayan\\AppData\\Local\\Temp\\ipykernel_9608\\1965239709.py:1: LangChainDeprecationWarning: The class `ChatOpenAI` was deprecated in LangChain 0.0.10 and will be removed in 1.0. An updated version of the class exists in the :class:`~langchain-openai package and should be used instead. To use it run `pip install -U :class:`~langchain-openai` and import as `from :class:`~langchain_openai import ChatOpenAI``.\n",
      "  llm = ChatOpenAI(temperature=0, model_name='gpt-3.5-turbo')\n"
     ]
    }
   ],
   "source": [
    "llm = ChatOpenAI(temperature=0, model_name='gpt-3.5-turbo')"
   ]
  },
  {
   "cell_type": "code",
   "execution_count": 8,
   "id": "1faa5508",
   "metadata": {},
   "outputs": [
    {
     "data": {
      "text/plain": [
       "988"
      ]
     },
     "execution_count": 8,
     "metadata": {},
     "output_type": "execute_result"
    }
   ],
   "source": [
    "llm.get_num_tokens(texto)"
   ]
  },
  {
   "cell_type": "code",
   "execution_count": 9,
   "id": "ecf5146f",
   "metadata": {},
   "outputs": [
    {
     "name": "stderr",
     "output_type": "stream",
     "text": [
      "C:\\Users\\Brayan\\AppData\\Local\\Temp\\ipykernel_9608\\3213628879.py:1: LangChainDeprecationWarning: The method `BaseChatModel.__call__` was deprecated in langchain-core 0.1.7 and will be removed in 1.0. Use :meth:`~invoke` instead.\n",
      "  resumen = llm(mensajes)\n"
     ]
    }
   ],
   "source": [
    "resumen = llm(mensajes)"
   ]
  },
  {
   "cell_type": "code",
   "execution_count": 10,
   "id": "dcaf43e8",
   "metadata": {},
   "outputs": [
    {
     "name": "stdout",
     "output_type": "stream",
     "text": [
      "content='La inteligencia artificial (IA) es un conjunto de capacidades cognitivas expresadas por sistemas informáticos que imitan la inteligencia humana para realizar tareas. Surgió después de la Segunda Guerra Mundial y abarca diversos subcampos, desde reconocimiento de voz hasta diagnóstico de enfermedades. Se basa en algoritmos y redes neuronales artificiales, y su aplicación ha dado lugar a nuevos campos como la robótica y la ética de las máquinas. Se clasifica en inteligencia artificial débil y fuerte, esta última con capacidades que exceden las humanas. Ejemplos incluyen asistentes virtuales, traductores automáticos, sistemas de recomendación y vehículos autónomos.' additional_kwargs={} response_metadata={'token_usage': {'completion_tokens': 163, 'prompt_tokens': 1033, 'total_tokens': 1196, 'completion_tokens_details': {'accepted_prediction_tokens': 0, 'audio_tokens': 0, 'reasoning_tokens': 0, 'rejected_prediction_tokens': 0}, 'prompt_tokens_details': {'audio_tokens': 0, 'cached_tokens': 0}}, 'model_name': 'gpt-3.5-turbo', 'system_fingerprint': None, 'finish_reason': 'stop', 'logprobs': None} id='run-72b25f4f-c7b1-4063-8d5c-ae16f8670ae2-0'\n"
     ]
    }
   ],
   "source": [
    "print(resumen)"
   ]
  },
  {
   "cell_type": "code",
   "execution_count": 11,
   "id": "5a8ee794",
   "metadata": {},
   "outputs": [
    {
     "name": "stdout",
     "output_type": "stream",
     "text": [
      "La inteligencia artificial (IA) es un conjunto de capacidades cognitivas expresadas por sistemas informáticos que imitan la inteligencia humana para realizar tareas. Surgió después de la Segunda Guerra Mundial y abarca diversos subcampos, desde reconocimiento de voz hasta diagnóstico de enfermedades. Se basa en algoritmos y redes neuronales artificiales, y su aplicación ha dado lugar a nuevos campos como la robótica y la ética de las máquinas. Se clasifica en inteligencia artificial débil y fuerte, esta última con capacidades que exceden las humanas. Ejemplos incluyen asistentes virtuales, traductores automáticos, sistemas de recomendación y vehículos autónomos.\n"
     ]
    }
   ],
   "source": [
    "print(resumen.content)"
   ]
  },
  {
   "cell_type": "markdown",
   "id": "b84bd94a",
   "metadata": {},
   "source": [
    "## Usando Plantillas de Promts (Prompt Templates)"
   ]
  },
  {
   "cell_type": "code",
   "execution_count": 12,
   "id": "2140a0a0",
   "metadata": {},
   "outputs": [],
   "source": [
    "from langchain import PromptTemplate\n",
    "from langchain.chains import LLMChain"
   ]
  },
  {
   "cell_type": "code",
   "execution_count": 13,
   "id": "1193a963",
   "metadata": {},
   "outputs": [],
   "source": [
    "template = '''\n",
    "Escriba un resumen conciso y breve del siguiente texto:\n",
    "TEXTO: {texto}\n",
    "Traduzca el resumen al {idioma}.\n",
    "'''"
   ]
  },
  {
   "cell_type": "code",
   "execution_count": 14,
   "id": "724bdcbc",
   "metadata": {},
   "outputs": [],
   "source": [
    "prompt = PromptTemplate(\n",
    "    input_variables=['texto', 'idioma'],\n",
    "    template=template\n",
    ")"
   ]
  },
  {
   "cell_type": "code",
   "execution_count": 15,
   "id": "be75ef34",
   "metadata": {},
   "outputs": [
    {
     "data": {
      "text/plain": [
       "1017"
      ]
     },
     "execution_count": 15,
     "metadata": {},
     "output_type": "execute_result"
    }
   ],
   "source": [
    "llm.get_num_tokens(prompt.format(texto=texto, idioma='Inglés'))"
   ]
  },
  {
   "cell_type": "code",
   "execution_count": 16,
   "id": "10e12c49",
   "metadata": {},
   "outputs": [
    {
     "name": "stderr",
     "output_type": "stream",
     "text": [
      "C:\\Users\\Brayan\\AppData\\Local\\Temp\\ipykernel_9608\\695730575.py:1: LangChainDeprecationWarning: The class `LLMChain` was deprecated in LangChain 0.1.17 and will be removed in 1.0. Use :meth:`~RunnableSequence, e.g., `prompt | llm`` instead.\n",
      "  chain = LLMChain(llm=llm, prompt=prompt)\n",
      "C:\\Users\\Brayan\\AppData\\Local\\Temp\\ipykernel_9608\\695730575.py:2: LangChainDeprecationWarning: The method `Chain.run` was deprecated in langchain 0.1.0 and will be removed in 1.0. Use :meth:`~invoke` instead.\n",
      "  resumen = chain.run({'texto': texto, 'idioma':'Español'})\n"
     ]
    }
   ],
   "source": [
    "chain = LLMChain(llm=llm, prompt=prompt)\n",
    "resumen = chain.run({'texto': texto, 'idioma':'Español'})"
   ]
  },
  {
   "cell_type": "code",
   "execution_count": 17,
   "id": "9f7ceb2f",
   "metadata": {},
   "outputs": [
    {
     "name": "stdout",
     "output_type": "stream",
     "text": [
      "La inteligencia artificial es una disciplina que busca imitar la inteligencia humana a través de sistemas informáticos. Se desarrolló después de la Segunda Guerra Mundial y abarca una amplia variedad de subcampos, desde el reconocimiento de voz hasta la escritura de poesía. Las inteligencias artificiales aprenden y se mejoran a través de diferentes modelos de aprendizaje, como el aprendizaje automático. Su aplicación en la vida cotidiana ha dado lugar a nuevos campos de estudio, como la ética de las máquinas. Se clasifica en inteligencia artificial débil, que realiza tareas específicas, y en inteligencia artificial fuerte, que excedería las capacidades humanas. Algunas de las inteligencias artificiales más conocidas incluyen asistentes virtuales, traductores automáticos y sistemas de recomendación.\n"
     ]
    }
   ],
   "source": [
    "print(resumen)"
   ]
  },
  {
   "cell_type": "markdown",
   "id": "89af3738",
   "metadata": {},
   "source": [
    "## Resumenes de documentos usando SuffDocumentChain"
   ]
  },
  {
   "cell_type": "code",
   "execution_count": 18,
   "id": "463aaba9",
   "metadata": {},
   "outputs": [],
   "source": [
    "from langchain import PromptTemplate\n",
    "from langchain.chat_models import ChatOpenAI\n",
    "from langchain.chains.summarize import load_summarize_chain\n",
    "from langchain.docstore.document import Document"
   ]
  },
  {
   "cell_type": "code",
   "execution_count": 19,
   "id": "63e4c655",
   "metadata": {},
   "outputs": [
    {
     "name": "stdout",
     "output_type": "stream",
     "text": [
      "Minecraft\n",
      "\n",
      "Minecraft es un videojuego de construcción de tipo «mundo abierto» o sandbox creado originalmente por el sueco Markus Persson (conocido comúnmente como «Notch»),19 y posteriormente desarrollado por Mojang Studios (actualmente parte de Microsoft).20 Fue lanzado el 17 de mayo de 2009, y después de numerosos cambios, su primera versión estable «1.0» fue publicada el 18 de noviembre de 2011.\n",
      " Markus Persson, el creador de Minecraft.\n",
      "Un mes antes del lanzamiento de su versión completa se estrenó una versión para dispositivos móviles llamada Minecraft: Pocket Edition en Android,21 y el 17 de noviembre del mismo año fue lanzada la misma versión para iOS.22 El 9 de mayo de 2012 fue lanzada la versión del juego para Xbox 360 y PS3. Todas las versiones de Minecraft reciben actualizaciones constantes desde su lanzamiento. En octubre de 2014, Minecraft lanzó su edición para PlayStation Vita,23 desarrollada por Mojang y 4J Studios. Esta versión presenta las mismas actualizaciones y similares características que las otras versiones de consola; además, cuenta con el sistema de venta cruzada, es decir que al comprar la versión de PlayStation 3 se obtiene también la de PlayStation Vita. A marzo de 2023 se habían vendido más de 238 millones de copias, siendo actualmente el videojuego más vendido de la historia.2425\n",
      "El 15 de septiembre de 2014, fue adquirido por la empresa Microsoft por un valor de 2500 millones de dólares estadounidenses. Este suceso provocó el alejamiento de Markus Persson de la compañía.25 En noviembre de 2016, Microsoft anunció el lanzamiento de la versión completa de Minecraft: Education Edition.26\n",
      "Jugabilidad\n",
      " Clon de Minecraft en dominio público \"Manic Digger\". Minecraft introdujo millones de niños al mundo digital.27\n",
      "Minecraft es un juego de mundo abierto, y no tiene un fin claramente definido. Esto permite una gran libertad en cuanto a la elección de su forma de jugar. A pesar de ello, el juego posee un sistema que otorga logros por completar ciertas acciones.2829 La cámara es en primera persona, aunque los jugadores tienen la posibilidad de cambiarla a una perspectiva de tercera persona en cualquier momento.30\n",
      "El juego se centra en la colocación y destrucción de bloques, siendo que este se compone de objetos tridimensionales cúbicos, colocados sobre un patrón de rejilla fija. Estos cubos o bloques representan principalmente distintos elementos de la naturaleza, como tierra, piedra, minerales, troncos, entre otros.31\n",
      "Los jugadores son libres de desplazarse por su entorno y modificarlo mediante la creación, recolección y transporte de los bloques que componen al juego, los cuales solo pueden ser colocados respetando la rejilla fija del juego.3132 Los jugadores crean «granjas», que son estructuras y mecanismos para conseguir un determinado material más fácil (por ejemplo una granja que genera oro automáticamente). En el juego se pueden encontrar estructuras especiales como aldeas, galerías mineras, templos marinos, pirámides y templos selváticos.\n",
      "Inicio\n",
      "Al inicio del juego, el jugador se encuentra en un mundo generado mediante un algoritmo, lo que permite que este sea teóricamente infinito y nunca se generen dos mundos iguales.33 El jugador es libre de desplazarse por el terreno, conformado por distintos biomas, entre los que se encuentran desiertos, sabanas, selvas, océanos, llanuras, tundras, etcétera.333435 El juego posee su propio ciclo de tiempo de día y noche, siendo que un día en el juego equivale a 20 minutos en la realidad.31\n",
      "Mundo\n",
      "El mundo no se genera por completo al principio, sino que está dividido en chunks («trozos», «pedazos» traducido literalmente al español, pero sin adaptación oficial) de 16 × 16 bloques en horizontal. Los chunks cercanos al jugador se cargan en la memoria. A medida que este se desplaza, se generan y añaden nuevos chunks al mundo.36\n",
      "Dificultad\n",
      "Independientemente de los varios modos de juego también se puede definir la dificultad del juego, siendo el modo más tranquilo el pacífico, que a diferencia de las demás dificultades, no permite que aparezcan monstruos en el juego que puedan herir al jugador.\n",
      "Modos de juego\n",
      "Supervivencia\n",
      "El modo supervivencia (survival en inglés) se basa en la vida real combinada con un poco de fantasía y se trata de la supervivencia al ataque de las múltiples criaturas que surgen en la oscuridad o de noche.37 El máximo aguante que tienen los personajes consta de 10 corazones (20 puntos de salud). En este modo las herramientas, armas y armadura se gastan con el uso.\n",
      "Creativo\n",
      "En el modo creativo (creative en inglés) se centra enteramente en el aspecto de la construcción libre. Los jugadores poseen un suministro ilimitado de todos los bloques y objetos del juego,38 que pueden colocar y destruir de forma instantánea. Además, no son atacados por los monstruos, son inmunes a todo daño (aunque sí pueden morir cayendo al vacío si están en Java Edition) y pueden volar libremente por el mapa. En este modo no se pueden romper bloques sosteniendo espada, para prevenir la destrucción del entorno cuando el jugador golpea o ataca.\n",
      "Extremo\n",
      "El modo extremo (hardcore en inglés) es idéntico al modo supervivencia, con la diferencia de que tras la muerte del jugador este ya no puede volver a revivir y la dificultad está fijada en difícil.3940\n",
      "Espectador\n",
      "El modo espectador permite a los jugadores volar a través de bloques y ver el mundo sin interactuar con él. En este modo, la barra de acceso rápido se convierte en un menú que permite al jugador teletransportarse a los jugadores en la partida. También es posible ver desde el punto de vista de otro jugador o criatura. 41\n",
      "Aventura\n",
      "El modo aventura (adventure en inglés) está destinado a los jugadores que se dedican a crear mapas para usuarios que deseen jugar en línea o solos. Este modo de juego se basa en los siguientes criterios que afectan al jugador en distintos sentidos:37\n",
      "•\tEl jugador solo puede romper un bloque si tiene la herramienta adecuada, y esta programada con comandos para que pueda ser rota.\n",
      "•\tSi el creador del mapa así lo configura, la dificultad no puede ser modificada por los jugadores.\n",
      "Mods y modos de juego no oficiales\n",
      "Algunos usuarios o desarrolladores avanzados optan por crear sus propios modos de juego y aplicarlos en servidores o mapas de aventura para jugar en modo de un jugador. Sin embargo, estos modos de juego suelen verse poco y la mayoría de los servidores modifican algunas extensiones para hacer parecer que tienen un modo de juego personalizado.[cita requerida]\n",
      "En las primeras versiones preliminares de Minecraft, el único modo de juego disponible era similar al creativo actual. En particular, la versión clásica (que ya no recibe actualizaciones) aún puede jugarse gratuitamente desde navegadores web.19\n",
      "Multijugador\n",
      "Véase también: Servidor de Minecraft\n",
      "El modo multijugador en Minecraft permite que varios jugadores interactúen y se comuniquen entre sí en un solo mundo. Está disponible a través de multijugador directo de juego a juego, juego LAN, pantalla dividida local (solo consola) y servidores (alojados por jugadores y negocios).42 Los jugadores pueden ejecutar sus propios servidores, usar un proveedor de alojamiento o conectarse directamente al juego de otro jugador a través de Xbox Live. Los mundos de un solo jugador tienen soporte de red de área local, lo que permite a los jugadores unirse a un mundo en computadoras interconectadas localmente sin una configuración de servidor.43 Los servidores multijugador de Minecraft están guiados por operadores de servidores, que tienen acceso a los comandos del servidor, como configurar la hora del día y teletransportar a los jugadores. Los operadores también pueden establecer restricciones con respecto a qué nombres de usuario o direcciones IP pueden o no ingresar al servidor.42 Los servidores multijugador tienen una amplia gama de actividades, y algunos servidores tienen sus propias reglas y costumbres únicas. El servidor más grande y popular es Hypixel, que ha sido visitado por más de 14 millones de jugadores únicos.4445 El combate jugador contra jugador (PvP) se puede habilitar para permitir la lucha entre jugadores.46 Muchos servidores tienen complementos personalizados que permiten acciones que normalmente no son posibles.\n",
      "Minecraft Realms\n",
      "En 2013, Mojang anunció Minecraft Realms, un servicio de alojamiento de servidor destinado a permitir a los jugadores ejecutar juegos multijugador en servidor de manera fácil y segura sin tener que configurar uno propio.4748 A diferencia de un servidor estándar, solo los jugadores invitados pueden unirse a los servidores de Realms y estos servidores no usan direcciones IP. Los propietarios de servidores de Minecraft: Java Edition Realms pueden invitar hasta veinte personas a jugar en su servidor, con hasta diez jugadores en línea a la vez. Los propietarios de servidores de Minecraft Realms pueden invitar hasta 3000 personas a jugar en su servidor, con hasta diez jugadores en línea a la vez.49 Los servidores de Minecraft: Java Edition Realms no admiten complementos creados por el usuario, pero los jugadores pueden jugar mapas personalizados de Minecraft .50 Los servidores de Minecraft Realms admiten complementos creados por el usuario, paquetes de recursos, paquetes de comportamiento y mapas personalizados de Minecraft .49 En Electronic Entertainment Expo 2016, se agregó soporte para juegos multiplataforma entre las plataformas Windows 10, iOS y Android a través de Realms a partir de junio de 2016,51 con soporte para Xbox One y Nintendo Switch más adelante en 2017,52 y soporte para dispositivos de realidad virtual . El 31 de julio de 2017, Mojang lanzó la versión beta de la actualización que permite el juego multiplataforma.53 El soporte de Nintendo Switch para Realms se lanzó en julio de 2018.54\n",
      "Personalización\n",
      "La comunidad de modding está formada por fanes, usuarios y programadores externos. Usando una variedad de interfaces de programas de aplicaciones que han surgido con el tiempo, han producido una amplia variedad de contenido descargable para Minecraft, como modificaciones, paquetes de texturas y mapas personalizados. Las modificaciones del código de Minecraft, llamadas mods, agregan una variedad de cambios en el juego, que van desde nuevos bloques, nuevos elementos, nuevas turbas hasta conjuntos completos de mecanismos para crear.5556 La comunidad de modding es responsable de un suministro sustancial de mods, desde los que mejoran el juego, como minimapas,57 puntos de ruta y contadores de durabilidad,58 hasta los que agregan al juego elementos de otros videojuegos y medios. Si bien una variedad de marcos de mod se desarrollaron de forma independiente mediante la ingeniería inversa del código, Mojang también mejoró Minecraft estándar con marcos oficiales para la modificación, lo que permite la producción de paquetes de recursos creados por la comunidad, que alteran ciertos elementos del juego, incluidas texturas y sonidos.59 Los jugadores también pueden crear sus propios \"mapas\" (archivos guardados personalizados del mundo) que a menudo contienen reglas específicas, desafíos, acertijos y misiones, y compartirlos para que otros jueguen.60 Mojang agregó un modo aventura en agosto de 201261 y \"bloques de comando\" en octubre de 2012,62 que se crearon especialmente para mapas personalizados en Java Edition . Los paquetes de datos, introducidos en la versión 1.13 de Java Edition, permiten una mayor personalización, incluida la capacidad de agregar nuevos avances, dimensiones, funciones, tablas de botín, predicados, recetas, estructuras, etiquetas, configuraciones de generación mundial y biomas.6364\n",
      "La edición Xbox 360 admite contenido descargable, que está disponible para comprar a través de Xbox Games Store ; estos paquetes de contenido suelen contener máscaras de personajes adicionales.65 Más tarde recibió soporte para paquetes de texturas en su duodécima actualización de título mientras presentaba \"paquetes de mezcla\", que combina paquetes de texturas con paquetes de máscaras y cambios en los sonidos, la música y la interfaz de usuario del juego.66 El primer paquete de mash-up (y, por extensión, el primer paquete de texturas) para Xbox 360 Edition se lanzó el 4 de septiembre de 2013 y tenía como tema la franquicia Mass Effect.67 Sin embargo, a diferencia de la Edición Java, la Edición Xbox 360 no admite modificaciones creadas por jugadores ni mapas personalizados. El 17 de mayo de 2016 se lanzó en todo el mundo un paquete de recursos de promoción cruzada basado en la franquicia Super Mario de Nintendo para la edición de Wii U.68 Se anunció el lanzamiento de un paquete combinado basado en Fallout en Wii U Edition .69 En abril de 2018, se descubrió malware en varias máscaras descargables de Minecraft creadas por usuarios para usar con la edición Java del juego.7071 Avast declaró que casi 50.000 cuentas estaban infectadas y, cuando se activaba, el malware intentaba reformatear el disco duro del usuario.7170 Mojang solucionó rápidamente el problema y emitió una declaración que decía que \"el juego en sí no ejecutaría ni leería el código\",70 y solo se ejecutaría cuando se abriera la imagen que contenía la máscara.72\n",
      "En junio de 2017, Mojang lanzó una actualización conocida como \"Discovery Update\" para la versión Bedrock del juego.73 La actualización incluye un nuevo mapa, un nuevo modo de juego, el \"Mercado\", un catálogo de contenido generado por los usuarios que brinda a los creadores de Minecraft \"otra forma de ganarse la vida con el juego\", y más.747576\n",
      "Mods de juego\n",
      "•\tForge y Fabric, proyectos que modifican una instalación de servidor y de cliente, las cuales implementan una API para desarrollar mods\n",
      "•\tOptifine, mod para el cliente que agrega características para mejorar el rendimiento y estética\n",
      "•\tRed Power 2, mod que agrega características avanzadas a Minecraft en forma de tecnología industrial, como bombas hidráulicas, paneles solares y tubos neumáticos, permitiendo incluso emular un ordenador completo basado en el MOS 6502 a través de las mecánicas del propio juego.777879\n",
      "Ediciones de Minecraft\n",
      "La edición principal es la versión Java de PC, pero aun así existen otras tres ediciones: Bedrock Edition, Console Edition y Education Edition.\n",
      "Bedrock Edition\n",
      "Artículo principal: Minecraft Bedrock\n",
      "En un principio, esta edición de Minecraft se desarrolló para ser una edición de bolsillo, siendo la edición disponible para teléfonos y tabletas. También hay una edición llamada Windows 10 Edition que se basa en la misma línea de desarrollo y el mismo código de Pocket Edition, aunque sólo está disponible para Windows 10 y está preparada para funcionar también en Holo Lens, dispositivos de realidad virtual de Microsoft y Oculus Rift. También la Pocket Edition normal tenía su soporte para estos dispositivos como con el Samsung Gear VR. Otras variantes de esta edición son Apple TV Edition y Fire TV Edition. Sin embargo, a partir de la versión 1.2, se unificó la jugabilidad de Pocket Edition con las de Windows 10, Xbox One S y los dispositivos de realidad virtual, bajo la llamada \"Bedrock Edition\", permitiendo el juego multijugador entre las plataformas anteriores, tanto en mundos con interconexión como en servidores multijugador. Luego de un tiempo se sumó la Nintendo Switch a esta edición, y finalmente la Playstation 4.\n",
      "Legacy Edition\n",
      "Esta edición del juego, antes conocida como \"Console Edition\", estaba preparada para funcionar en consolas como Xbox 360, Xbox One, Wii U, Nintendo Switch, PS3 y PS4. La edición era muy similar a la edición Java y se podía jugar multijugador en distintas consolas con suscripciones, como es el caso de Xbox, con su servicio Xbox LIVE Gold. Con la llegada de la edición Bedrock a PS4 a fines de 2019 todas las ediciones Legacy fueron retiradas del mercado. Aunque siguen siendo accesibles en algunas plataformas, no recibirán más actualizaciones.\n",
      "Education Edition\n",
      "Artículo principal: Minecraft Education Edition\n",
      "Esta es una edición especial de Minecraft Bedrock orientada al entorno estudiantil. Incorpora características exclusivas como los mundos tutorial, los PNJ (personajes no jugadores) y el modo de clase, junto con ítemes exclusivos como un pizarrón, además de una mesa de crafteo especial, recipiente y reductor para su uso en clases de química.\n",
      "Edición para la República Popular China\n",
      "Existe una edición localizada de Minecraft en chino simplificado desarrollada por Mojang Studios y publicada por NetEase, destinada al los jugadores de la República Popular China. Esta edición está disponible tanto en Java Edition como en Bedrock y es idéntica a la edición comercializada por Mojang/Microsoft. Sin embargo, cuenta con una serie de diferencias, entre las cuales está su descarga gratuita (pero requiere registro y cumplir con las obligaciones de identidad de la República Popular China), uso de cuenta de NetEase en lugar de una cuenta de Mojang o Microsoft, el uso de un lanzador exclusivo, y su propia tienda, además de incluir unos mods preinstalados. Se han modificado y/o censurado los nombres de algunos elementos del juego, con tal de cumplir con las regulaciones del gobierno chino.[cita requerida]\n",
      "Otros títulos\n",
      "Minecraft: Story Mode\n",
      "Artículo principal: Minecraft: Story Mode\n",
      "Minecraft: Story Mode es un juego point-and-click desarrollado y publicado por Telltale Games, basado en el videojuego sandbox Minecraft. El juego fue lanzado para Microsoft Windows, OS X, PlayStation 3, PlayStation 4, PlayStation Vita, Wii U, Xbox 360, Xbox One, Android y iOS. El juego fue desarrollado en asociación con Mojang, el desarrollador original de Minecraft. El juego sigue el formato episódico que Telltale Games ha utilizado en sus títulos The Walking Dead, The Wolf Among Us, Tales from the Borderlands y Game of Thrones. El juego se centra en torno a un nuevo personaje, llamado Jesse, que puede ser tanto hombre o mujer, esto a elección del jugador. El protagonista y sus aliados intentan salvar su mundo al derrotar al Wither Storm.\n",
      "Minecraft Dungeons\n",
      "Esta sección es un extracto de Minecraft Dungeons.[editar]\n",
      "Minecraft Dungeons (en español Minecraft Mazmorras) es un videojuego perteneciente al género de rol de acción que se lanzó el 26 de mayo de 2020 para Windows, Xbox One, Nintendo Switch y PlayStation 4; más tarde se lanzó para macOS, Xbox Series X|S y PlayStation 5.8081Desarrollado por Mojang y, cuya conversión a las consolas, fue realizada por Double Eleven. Se puede jugar solo o en línea con hasta cuatro jugadores. 82\n",
      "Minecraft Earth\n",
      "Esta sección es un extracto de Minecraft Earth.[editar]\n",
      "Minecraft Earth fue un videojuego perteneciente al género de sandbox de realidad aumentada, desarrollado por Mojang y publicado por Xbox Game Studios. Es una derivación del videojuego Minecraft, se anunció por primera vez en mayo del año 2019 y estuvo disponible para Android, iOS y iPadOS. El juego es gratuito y se lanzó como acceso temprano (Early access) por primera vez a principios de octubre de 2019. El juego recibió su última actualización el 5 de enero de 2021, dejando de estar disponible el 30 de junio del mismo año.83\n",
      "Minecraft Legends\n",
      "Esta sección es un extracto de Minecraft Legends.[editar]\n",
      "Minecraft Legends es un juego derivado de Minecraft con la temática de estrategia desarrollado por Mojang Studios y Blackbird Interactive y publicado por Xbox Game Studios. Lanzado en Microsoft Windows, Nintendo Switch, PlayStation 4, PlayStation 5, Xbox One, y Xbox Series X/S el 18 de abril de 2023.\n",
      "\n",
      "\n"
     ]
    }
   ],
   "source": [
    "with open('minecraft.txt', encoding='utf-8') as f:\n",
    "    texto = f.read()\n",
    "\n",
    "print(texto)"
   ]
  },
  {
   "cell_type": "code",
   "execution_count": 20,
   "id": "570b6a4f",
   "metadata": {},
   "outputs": [
    {
     "data": {
      "text/plain": [
       "4827"
      ]
     },
     "execution_count": 20,
     "metadata": {},
     "output_type": "execute_result"
    }
   ],
   "source": [
    "llm.get_num_tokens(texto)"
   ]
  },
  {
   "cell_type": "code",
   "execution_count": 21,
   "id": "47baf449",
   "metadata": {},
   "outputs": [],
   "source": [
    "docs = [Document(page_content=texto)]\n",
    "llm = ChatOpenAI(temperature=0, model_name='gpt-4')"
   ]
  },
  {
   "cell_type": "code",
   "execution_count": 22,
   "id": "9146a808",
   "metadata": {},
   "outputs": [],
   "source": [
    "template = '''\n",
    "Escriba un resumen conciso y breve del siguiente texto:\n",
    "TEXTO: {text}.\n",
    "'''\n",
    "prompt = PromptTemplate(\n",
    "    input_variables=['text'],\n",
    "    template=template\n",
    ")"
   ]
  },
  {
   "cell_type": "code",
   "execution_count": 23,
   "id": "8df96789",
   "metadata": {},
   "outputs": [],
   "source": [
    "chain = load_summarize_chain(\n",
    "    llm,\n",
    "    chain_type='stuff',\n",
    "    prompt=prompt,\n",
    "    verbose=False\n",
    ")\n",
    "resumen = chain.run(docs)"
   ]
  },
  {
   "cell_type": "code",
   "execution_count": 24,
   "id": "ae7bb458",
   "metadata": {},
   "outputs": [
    {
     "name": "stdout",
     "output_type": "stream",
     "text": [
      "Minecraft es un videojuego de construcción de tipo \"mundo abierto\" creado por el sueco Markus Persson y desarrollado por Mojang Studios, ahora parte de Microsoft. Lanzado en 2009, el juego permite a los jugadores construir y destruir bloques en un mundo tridimensional. Minecraft ha sido adaptado para varias plataformas, incluyendo dispositivos móviles, Xbox 360, PS3 y PlayStation Vita. En 2014, Microsoft adquirió Minecraft por $2500 millones de dólares. A marzo de 2023, se habían vendido más de 238 millones de copias, convirtiéndolo en el videojuego más vendido de la historia. Minecraft también tiene varias ediciones, incluyendo Bedrock Edition, Console Edition y Education Edition, y ha inspirado varios spin-offs como Minecraft: Story Mode, Minecraft Dungeons, Minecraft Earth y Minecraft Legends.\n",
      "\n"
     ]
    }
   ],
   "source": [
    "print(resumen)"
   ]
  },
  {
   "cell_type": "markdown",
   "id": "8538b4b1",
   "metadata": {
    "jp-MarkdownHeadingCollapsed": true
   },
   "source": [
    "## Resume Documentos largos usando map_reduce"
   ]
  },
  {
   "cell_type": "code",
   "execution_count": 25,
   "id": "2aa353ee",
   "metadata": {},
   "outputs": [],
   "source": [
    "from langchain import PromptTemplate\n",
    "from langchain.chat_models import ChatOpenAI\n",
    "from langchain.chains.summarize import load_summarize_chain\n",
    "from langchain.text_splitter import RecursiveCharacterTextSplitter"
   ]
  },
  {
   "cell_type": "code",
   "execution_count": 26,
   "id": "0f665775",
   "metadata": {},
   "outputs": [],
   "source": [
    "with open('ia.txt', encoding='utf-8') as f:\n",
    "    texto = f.read()\n",
    "\n",
    "llm = ChatOpenAI(temperature=0, model_name='gpt-3.5-turbo')"
   ]
  },
  {
   "cell_type": "code",
   "execution_count": 27,
   "id": "16f2a672",
   "metadata": {},
   "outputs": [
    {
     "data": {
      "text/plain": [
       "13466"
      ]
     },
     "execution_count": 27,
     "metadata": {},
     "output_type": "execute_result"
    }
   ],
   "source": [
    "llm.get_num_tokens(texto)"
   ]
  },
  {
   "cell_type": "code",
   "execution_count": 28,
   "id": "c8ab526e",
   "metadata": {},
   "outputs": [
    {
     "data": {
      "text/plain": [
       "54987"
      ]
     },
     "execution_count": 28,
     "metadata": {},
     "output_type": "execute_result"
    }
   ],
   "source": [
    "len(texto)"
   ]
  },
  {
   "cell_type": "code",
   "execution_count": 29,
   "id": "9275a3ff",
   "metadata": {},
   "outputs": [],
   "source": [
    "text_splitter = RecursiveCharacterTextSplitter(chunk_size=12000, chunk_overlap=100)\n",
    "chunks = text_splitter.create_documents([texto])"
   ]
  },
  {
   "cell_type": "code",
   "execution_count": 30,
   "id": "20c36c83",
   "metadata": {},
   "outputs": [
    {
     "data": {
      "text/plain": [
       "5"
      ]
     },
     "execution_count": 30,
     "metadata": {},
     "output_type": "execute_result"
    }
   ],
   "source": [
    "len(chunks)"
   ]
  },
  {
   "cell_type": "code",
   "execution_count": 31,
   "id": "b835b1ed",
   "metadata": {},
   "outputs": [
    {
     "name": "stdout",
     "output_type": "stream",
     "text": [
      "Una de las principales diferencias entre el aprendizaje automático y el aprendizaje profundo es que el último es capaz de procesar y analizar grandes cantidades de datos de manera más eficiente y precisa que el primero, especialmente cuando se trata de datos no estructurados, como imágenes, texto y audio. Además, el aprendizaje profundo tiene la capacidad de identificar patrones y características más complejas en los datos, lo que puede llevar a mejores resultados en aplicaciones como el reconocimiento de voz, la visión por computadora y el procesamiento del lenguaje natural.\n",
      "\n",
      "Como se mencionó anteriormente, en resumen, la inteligencia artificial es la ciencia que entrena máquinas para que realicen tareas humanas, por lo que todo nuestro alrededor está rodeado de ella y mientras existan recursos con ese tipo de lenguaje la IA estará presente. El «aprendizaje automatizado» es una rama de la inteligencia artificial que le entrena a una máquina a cómo aprender, esta se encarga de ver patrones y datos para llegar a una conclusión por sí sola; cómo funciona es: haces una pregunta, recolecta información, entrena al algoritmo, lo pone a prueba, recolecta la retroalimentación y usa esa retroalimentación, mientras que el aprendizaje profundo se centra en la creación de redes neuronales artificiales que puedan procesar y analizar grandes cantidades de datos de manera más eficiente y precisa, especialmente cuando se trata de datos no estructurados.\n",
      "\n",
      "Propiedad intelectual de la inteligencia artificial\n",
      "\n",
      "Imagen de una ciudad futurista generada por la IA Midjourney. La composición está en el dominio público al no ser de un autor humano.\n",
      "Al hablar acerca de la propiedad intelectual atribuida a creaciones de la inteligencia artificial se forma un debate fuerte alrededor de si una máquina puede tener derechos de autor. Según la Organización Mundial de la Propiedad Intelectual (OMPI), cualquier creación de la mente puede ser parte de la propiedad intelectual, pero no especifica si la mente debe ser humana o puede ser una máquina, dejando la creatividad artificial en la incertidumbre.\n",
      "\n",
      "Alrededor del mundo han comenzado a surgir distintas legislaciones con el fin de manejar la inteligencia artificial, tanto su uso como creación. Los legisladores y miembros del gobierno han comenzado a pensar acerca de esta tecnología, enfatizando el riesgo y los desafíos complejos de esta. Observando el trabajo creado por una máquina, las leyes cuestionan la posibilidad de otorgarle propiedad intelectual a una máquina, abriendo una discusión respecto a la legislación relacionada con IA.\n",
      "\n",
      "El 5 de febrero de 2020, la Oficina del Derecho de Autor de los Estados Unidos y la OMPI asistieron a un simposio donde observaron de manera profunda cómo la comunidad creativa utiliza la inteligencia artificial (IA) para crear trabajo original. Se discutieron las relaciones entre la inteligencia artificial y el derecho de autor, qué nivel de involucramiento es suficiente para que el trabajo resultante sea válido para protección de derechos de autor; los desafíos y consideraciones de usar inputs con derechos de autor para entrenar una máquina; y el futuro de la inteligencia artificial y sus políticas de derecho de autor.72​73​\n",
      "\n",
      "El director general de la OMPI, Francis Gurry, presentó su preocupación ante la falta de atención que hay frente a los derechos de propiedad intelectual, pues la gente suele dirigir su interés hacia temas de ciberseguridad, privacidad e integridad de datos al hablar de la inteligencia artificial. Así mismo, Gurry cuestionó si el crecimiento y la sostenibilidad de la tecnología IA nos guiaría a desarrollar dos sistemas para manejar derechos de autor- uno para creaciones humanas y otro para creaciones de máquinas.74​\n",
      "\n",
      "Aún hay una falta de claridad en el entendimiento alrededor de la inteligencia artificial. Los desarrollos tecnológicos avanzan a paso rápido, aumentando su complejidad en políticas, legalidades y problemas éticos que se merecen la atención global. Antes de encontrar una manera de trabajar con los derechos de autor, es necesario entenderlo correctamente, pues aún no se sabe cómo juzgar la originalidad de un trabajo que nace de una composición de una serie de fragmentos de otros trabajos.\n",
      "\n",
      "La asignación de derechos de autor alrededor de la inteligencia artificial aún no ha sido regulada por la falta de conocimientos y definiciones. Aún hay incertidumbre sobre si, y hasta que punto, la inteligencia artificial es capaz de producir contenido de manera autónoma y sin ningún humano involucrado, algo que podría influenciar si sus resultados pueden ser protegidos por derechos de autor.\n",
      "\n",
      "El sistema general de derechos de autor aún debe adaptarse al contexto digital de inteligencia artificial, pues están centrados en la creatividad humana. Los derechos de autor no están diseñados para manejar cualquier problema en las políticas relacionado con la creación y el uso de propiedad intelectual, y puede llegar a ser dañino estirar excesivamente los derechos de autor para resolver problemas periféricos dado que:\n",
      "\n",
      "«Usar los derechos de autor para gobernar la inteligencia artificial es poco inteligente y contradictorio con la función primordial de los derechos de autor de ofrecer un espacio habilitado para que la creatividad florezca»75​\n",
      "\n",
      "La conversación acerca de la propiedad intelectual tendrá que continuar hasta asegurarse de que la innovación sea protegida pero también tenga espacio para florecer.\n",
      "\n",
      "En la cultura popular\n",
      "En el cine\n",
      "Véase también: Computadoras en la ciencia ficción\n",
      "La IA está cada vez más presente en la sociedad, la evolución de la tecnología es una realidad y con ello, la producción de películas sobre esta temática. Cabe destacar, que lleva habiendo piezas audiovisuales sobre inteligencia artificial desde hace mucho tiempo, ya sea incluyendo personajes o mostrando un trasfondo moral y ético. A continuación, se muestra una lista de algunas de las principales películas que tratan este tema:\n",
      "\n",
      "Ex Machina (2015): En la interpretación de Alicia Vikander, increíblemente editada, como Ava, encontramos un probable robot a prueba de Turing escondido en la mansión de un genio, Nathan, un poco loco. Y es que, hablamos de una creación extraña que se siente totalmente real y a la vez inhumana. Está considerada como una de las mejores películas que tratan la inteligencia artificial. Esto se debe principalmente a que parece cubrir todo el concepto IA integrado en una película: el protagonista es un sustituto del ser humano y nos adentra en multitud de argumentos morales que rodean a esta, al tiempo que vemos un arco narrativo de thriller que, desde luego, acaba enganchándonos. Desde luego aquí la representación del personaje de la IA no es blanco o negro. Ava no es buena, pero tampoco es del todo mala. Y en esto, el público se queda reflexionando sobre cuestiones profundas sobre la naturaleza de la IA.\n",
      "Minority Report (2002): La película sobre IA de Steven Spielberg, Minority Report, sigue a John (Tom Cruise), un agente de la ley, que es acusado de un asesinato que cometerá en el futuro. En esta película de principios de los años 2000, el protagonista utiliza una tecnología del futuro que permite a la policía atrapar a los criminales antes de que hayan cometido un delito. En Minority Report, la IA se representa a través de los Precogs, los gemelos que poseen habilidades psíquicas. Los Precogs ven los asesinatos antes de que se produzcan, lo que permite a las fuerzas del orden perseguir el crimen antes de que se cometa. En lugar de los robots físicos de IA tipo cyborg, aquí explora la IA mediante el uso de seres humanos.\n",
      "Matrix (1999): En esta película Keanu Reeves interpreta a Thomas Anderson / Neo, un programador de día y hacker de noche que trata de desentrañar la verdad oculta tras una simulación conocida como «Matrix». Esta realidad simulada es producto de programas de inteligencia artificial que terminan esclavizando a la humanidad y utilizando sus cuerpos como fuente de energía.\n",
      "Yo, robot (2004): Esta película de ciencia ficción protagonizada por Will Smith está ambientada en 2035, en una sociedad donde los humanos viven en perfecta armonía con robots inteligentes en los que confían para todo. Los problemas emergen a la superficie cuando un error en la programación de un superordenador llamado VIKI le lleva a creer que los robots deben tomar las riendas para proteger a la humanidad de sí misma.\n",
      "Inteligencia artificial (2001): Un trabajador de Cybertronics Manufacturing adopta a David de forma momentánea para, así, estudiar su comportamiento. Tanto él como su esposa acaban por tratar al niño artificial como a su propio hijo biológico. A pesar del cariño que le profesan, David siente la necesidad de escapar de su hogar e iniciar un viaje que le ayude a descubrir a quién pertenece realmente. Ante sus perplejos ojos, se abrirá un nuevo mundo oscuro, injusto, violento, insensible ... Algo que le resultará difícil aceptar. Se pregunta cosas como: ¿cómo es posible que sienta algo tan real como el amor y que él sea artificial? y fue nominado al Premio Oscar.\n",
      "Her (2013): Esta película de Spike Jonze relata la historia de un escritor de cartas quien está solo y a punto de divorciarse. Este personaje lo representó el galardonado Joaquin Phoenix. Este hombre compró un sistema operativo con inteligencia artificial para utilizarlo a fin de complacer a todos los usuarios y adaptarse a sus necesidades. Sin embargo, el resultado es que desarrolla un sentimiento romántico con Samantha. Quien es la voz femenina del sistema operativo.\n",
      "The Terminator (1984): En esta película el argumento se basa en el desarrollo de un micro chip capaz de dotar de inteligencia artificial a robots que luego se revelan contra la humanidad. Se trata de una de las películas más populares sobre una hipotética guerra entre humanos y robots inteligentes capaces de crearse a sí mismos.\n"
     ]
    }
   ],
   "source": [
    "print(chunks[4].page_content)"
   ]
  },
  {
   "cell_type": "code",
   "execution_count": 32,
   "id": "3c579cd6",
   "metadata": {},
   "outputs": [
    {
     "name": "stdout",
     "output_type": "stream",
     "text": [
      "2462\n",
      "3043\n",
      "2886\n",
      "2715\n",
      "2360\n"
     ]
    }
   ],
   "source": [
    "for i in range (0, 5):\n",
    "    print(llm.get_num_tokens(chunks[i].page_content))"
   ]
  },
  {
   "cell_type": "code",
   "execution_count": 33,
   "id": "0fb30ca0",
   "metadata": {},
   "outputs": [],
   "source": [
    "chain = load_summarize_chain(\n",
    "    llm,\n",
    "    chain_type='map_reduce',\n",
    "    verbose=False\n",
    ")\n",
    "resumen = chain.run(chunks)"
   ]
  },
  {
   "cell_type": "code",
   "execution_count": 34,
   "id": "c74bb642",
   "metadata": {},
   "outputs": [
    {
     "name": "stdout",
     "output_type": "stream",
     "text": [
      "La inteligencia artificial (IA) es un campo de las ciencias de la computación que busca crear máquinas que imiten la inteligencia humana para realizar tareas. Se divide en inteligencia artificial débil y fuerte, con aplicaciones en áreas como la salud, asistentes virtuales y sistemas de recomendación. La regulación de la IA es importante para proteger los derechos individuales y garantizar el bienestar social. La IA ha tenido avances significativos a lo largo de la historia, con hitos como la creación de la primera red neuronal en 1943 y el desarrollo de sistemas expertos en las décadas de 1970 y 1980. La ética y las implicaciones sociales de la IA han sido temas de debate, con preocupaciones sobre el impacto en el empleo y la necesidad de pautas éticas en su desarrollo y uso. La IA tiene aplicaciones en ciberseguridad, descubrimiento de conocimientos y diversos campos, aunque ha generado controversias y desafíos en su capacidad para imitar por completo a un ser humano. La diferencia entre el aprendizaje automático y el aprendizaje profundo radica en la capacidad de este último para procesar grandes cantidades de datos de manera más eficiente y precisa, especialmente datos no estructurados como imágenes, texto y audio. La adaptación de las leyes de derechos de autor para acomodar el contenido generado por IA sigue siendo un trabajo en progreso, con incertidumbre sobre si las máquinas pueden tener derechos de autor. La cultura popular, especialmente en el cine, ha explorado el tema de la inteligencia artificial a través de películas como Ex Machina, Minority Report y The Terminator.\n"
     ]
    }
   ],
   "source": [
    "print(resumen)"
   ]
  },
  {
   "cell_type": "markdown",
   "id": "0e85734b",
   "metadata": {
    "jp-MarkdownHeadingCollapsed": true
   },
   "source": [
    "##  map_reduce con Prompts Personalizados"
   ]
  },
  {
   "cell_type": "code",
   "execution_count": 35,
   "id": "b242b9c7",
   "metadata": {},
   "outputs": [],
   "source": [
    "map_prompt = '''\n",
    "Escriba un resumen conciso y breve del siguiente texto:\n",
    "Que el resumen esté en español.\n",
    "TEXTO: {text}\n",
    "'''\n",
    "map_prompt_template = PromptTemplate(\n",
    "    input_variables=['text'],\n",
    "    template=map_prompt\n",
    ")"
   ]
  },
  {
   "cell_type": "code",
   "execution_count": 36,
   "id": "8983d6c1",
   "metadata": {},
   "outputs": [],
   "source": [
    "prompt_combinado = '''\n",
    "Escriba un resumen conciso del siguiente texto que abarque los puntos claves.\n",
    "Añade un título al resumen.\n",
    "Comience su resumen con un PÁRRAFO DE INTRODUCCIÓN que ofrezca una visión general del tema SEGUIDO\n",
    "por los PUNTOS tipo \"BULLET Point\" si es posible Y termine el resumen con una CONCLUSIÓN.\n",
    "Texto: {text}\n",
    "'''\n",
    "prompt_template_combinado = PromptTemplate(template=prompt_combinado, input_variables=['text'])"
   ]
  },
  {
   "cell_type": "code",
   "execution_count": 37,
   "id": "010d453b",
   "metadata": {},
   "outputs": [],
   "source": [
    "llm = ChatOpenAI(temperature=0, model_name='gpt-4')"
   ]
  },
  {
   "cell_type": "code",
   "execution_count": 38,
   "id": "ac837445",
   "metadata": {},
   "outputs": [],
   "source": [
    "cadena_resumen = load_summarize_chain(\n",
    "    llm=llm,\n",
    "    chain_type='map_reduce',\n",
    "    map_prompt=map_prompt_template,\n",
    "    combine_prompt=prompt_template_combinado,\n",
    "    verbose=False\n",
    ")\n",
    "resumen = cadena_resumen.run(chunks)"
   ]
  },
  {
   "cell_type": "code",
   "execution_count": 39,
   "id": "ae43d7df",
   "metadata": {},
   "outputs": [
    {
     "name": "stdout",
     "output_type": "stream",
     "text": [
      "Título: Inteligencia Artificial: Evolución, Aplicaciones y Desafíos\n",
      "\n",
      "La Inteligencia Artificial (IA) es una rama de las ciencias de la computación que busca desarrollar máquinas capaces de imitar la inteligencia humana y mejorar a través de la recopilación de información. Aunque la IA ha experimentado avances significativos desde su concepción, también ha planteado cuestiones éticas y filosóficas. Además, el derecho juega un papel crucial en su uso y desarrollo, y se están estableciendo normas para garantizar el bienestar social y proteger los derechos individuales.\n",
      "\n",
      "• La IA busca mejorar las capacidades humanas, no reemplazarlas.\n",
      "• Los subcampos de la IA incluyen el reconocimiento de voz, el juego de ajedrez, la demostración de teoremas matemáticos, la escritura de poesía y el diagnóstico de enfermedades.\n",
      "• La IA ha propiciado la creación de nuevos campos de estudio como la roboética y la ética de las máquinas.\n",
      "• El término \"inteligencia artificial\" fue acuñado en 1956 durante la Conferencia de Dartmouth.\n",
      "• La Comisión Europea presentó en abril de 2021 una propuesta para la regulación armonizada de la IA en la UE.\n",
      "• La IA tiene varios objetivos, como el razonamiento y resolución de problemas, la representación del conocimiento, la planificación y el aprendizaje.\n",
      "• La IA puede procesar grandes cantidades de datos y localizar patrones e interrelaciones que serían difíciles de detectar de otra manera.\n",
      "• La IA juega un papel crucial en la ciberseguridad y el descubrimiento de conocimientos.\n",
      "• El aprendizaje automático y el aprendizaje profundo son dos subcampos de la IA que utilizan técnicas de estadística matemática y redes neuronales artificiales, respectivamente, para aprender de los datos y realizar tareas.\n",
      "\n",
      "En conclusión, la IA es una disciplina en constante evolución con una amplia gama de aplicaciones y desafíos. A pesar de las controversias y cuestiones éticas que ha planteado, la IA tiene el potencial de transformar diversos campos, desde la medicina hasta la ciberseguridad. Sin embargo, es crucial que se establezcan normas y regulaciones adecuadas para garantizar su uso seguro y ético.\n"
     ]
    }
   ],
   "source": [
    "print(resumen)"
   ]
  },
  {
   "cell_type": "markdown",
   "id": "55e3d959",
   "metadata": {},
   "source": [
    "### Resumenes usando refine Chain "
   ]
  },
  {
   "cell_type": "code",
   "execution_count": 40,
   "id": "00607f61",
   "metadata": {},
   "outputs": [
    {
     "name": "stdout",
     "output_type": "stream",
     "text": [
      "Note: you may need to restart the kernel to use updated packages.\n"
     ]
    }
   ],
   "source": [
    "pip install unstructured -q"
   ]
  },
  {
   "cell_type": "code",
   "execution_count": 41,
   "id": "1e9f8381",
   "metadata": {},
   "outputs": [
    {
     "name": "stdout",
     "output_type": "stream",
     "text": [
      "Requirement already satisfied: pdf2image in c:\\code\\simulacion\\venv\\lib\\site-packages (1.17.0)\n",
      "Requirement already satisfied: pillow in c:\\code\\simulacion\\venv\\lib\\site-packages (from pdf2image) (11.0.0)\n",
      "Note: you may need to restart the kernel to use updated packages.\n"
     ]
    }
   ],
   "source": [
    "pip install pdf2image"
   ]
  },
  {
   "cell_type": "code",
   "execution_count": 42,
   "id": "0a3f4538",
   "metadata": {},
   "outputs": [],
   "source": [
    "from langchain.chat_models import ChatOpenAI\n",
    "from langchain import PromptTemplate\n",
    "from langchain.chains.summarize import load_summarize_chain\n",
    "from langchain.text_splitter import RecursiveCharacterTextSplitter\n",
    "from langchain.document_loaders import UnstructuredPDFLoader"
   ]
  },
  {
   "cell_type": "code",
   "execution_count": 43,
   "id": "ba774ad5",
   "metadata": {},
   "outputs": [
    {
     "data": {
      "text/plain": [
       "True"
      ]
     },
     "execution_count": 43,
     "metadata": {},
     "output_type": "execute_result"
    }
   ],
   "source": [
    "import os\n",
    "from dotenv import load_dotenv, find_dotenv\n",
    "load_dotenv(find_dotenv(), override=True)"
   ]
  },
  {
   "cell_type": "code",
   "execution_count": 44,
   "id": "59a95dca",
   "metadata": {},
   "outputs": [
    {
     "ename": "ModuleNotFoundError",
     "evalue": "No module named 'pdfminer'",
     "output_type": "error",
     "traceback": [
      "\u001B[1;31m---------------------------------------------------------------------------\u001B[0m",
      "\u001B[1;31mModuleNotFoundError\u001B[0m                       Traceback (most recent call last)",
      "Cell \u001B[1;32mIn[44], line 2\u001B[0m\n\u001B[0;32m      1\u001B[0m loader \u001B[38;5;241m=\u001B[39m UnstructuredPDFLoader(\u001B[38;5;124m'\u001B[39m\u001B[38;5;124mia.pdf\u001B[39m\u001B[38;5;124m'\u001B[39m)\n\u001B[1;32m----> 2\u001B[0m data \u001B[38;5;241m=\u001B[39m \u001B[43mloader\u001B[49m\u001B[38;5;241;43m.\u001B[39;49m\u001B[43mload\u001B[49m\u001B[43m(\u001B[49m\u001B[43m)\u001B[49m\n",
      "File \u001B[1;32mC:\\Code\\simulacion\\venv\\Lib\\site-packages\\langchain_core\\document_loaders\\base.py:31\u001B[0m, in \u001B[0;36mBaseLoader.load\u001B[1;34m(self)\u001B[0m\n\u001B[0;32m     29\u001B[0m \u001B[38;5;28;01mdef\u001B[39;00m \u001B[38;5;21mload\u001B[39m(\u001B[38;5;28mself\u001B[39m) \u001B[38;5;241m-\u001B[39m\u001B[38;5;241m>\u001B[39m \u001B[38;5;28mlist\u001B[39m[Document]:\n\u001B[0;32m     30\u001B[0m \u001B[38;5;250m    \u001B[39m\u001B[38;5;124;03m\"\"\"Load data into Document objects.\"\"\"\u001B[39;00m\n\u001B[1;32m---> 31\u001B[0m     \u001B[38;5;28;01mreturn\u001B[39;00m \u001B[38;5;28;43mlist\u001B[39;49m\u001B[43m(\u001B[49m\u001B[38;5;28;43mself\u001B[39;49m\u001B[38;5;241;43m.\u001B[39;49m\u001B[43mlazy_load\u001B[49m\u001B[43m(\u001B[49m\u001B[43m)\u001B[49m\u001B[43m)\u001B[49m\n",
      "File \u001B[1;32mC:\\Code\\simulacion\\venv\\Lib\\site-packages\\langchain_community\\document_loaders\\unstructured.py:107\u001B[0m, in \u001B[0;36mUnstructuredBaseLoader.lazy_load\u001B[1;34m(self)\u001B[0m\n\u001B[0;32m    105\u001B[0m \u001B[38;5;28;01mdef\u001B[39;00m \u001B[38;5;21mlazy_load\u001B[39m(\u001B[38;5;28mself\u001B[39m) \u001B[38;5;241m-\u001B[39m\u001B[38;5;241m>\u001B[39m Iterator[Document]:\n\u001B[0;32m    106\u001B[0m \u001B[38;5;250m    \u001B[39m\u001B[38;5;124;03m\"\"\"Load file.\"\"\"\u001B[39;00m\n\u001B[1;32m--> 107\u001B[0m     elements \u001B[38;5;241m=\u001B[39m \u001B[38;5;28;43mself\u001B[39;49m\u001B[38;5;241;43m.\u001B[39;49m\u001B[43m_get_elements\u001B[49m\u001B[43m(\u001B[49m\u001B[43m)\u001B[49m\n\u001B[0;32m    108\u001B[0m     \u001B[38;5;28mself\u001B[39m\u001B[38;5;241m.\u001B[39m_post_process_elements(elements)\n\u001B[0;32m    109\u001B[0m     \u001B[38;5;28;01mif\u001B[39;00m \u001B[38;5;28mself\u001B[39m\u001B[38;5;241m.\u001B[39mmode \u001B[38;5;241m==\u001B[39m \u001B[38;5;124m\"\u001B[39m\u001B[38;5;124melements\u001B[39m\u001B[38;5;124m\"\u001B[39m:\n",
      "File \u001B[1;32mC:\\Code\\simulacion\\venv\\Lib\\site-packages\\langchain_community\\document_loaders\\pdf.py:72\u001B[0m, in \u001B[0;36mUnstructuredPDFLoader._get_elements\u001B[1;34m(self)\u001B[0m\n\u001B[0;32m     71\u001B[0m \u001B[38;5;28;01mdef\u001B[39;00m \u001B[38;5;21m_get_elements\u001B[39m(\u001B[38;5;28mself\u001B[39m) \u001B[38;5;241m-\u001B[39m\u001B[38;5;241m>\u001B[39m List:\n\u001B[1;32m---> 72\u001B[0m     \u001B[38;5;28;01mfrom\u001B[39;00m \u001B[38;5;21;01munstructured\u001B[39;00m\u001B[38;5;21;01m.\u001B[39;00m\u001B[38;5;21;01mpartition\u001B[39;00m\u001B[38;5;21;01m.\u001B[39;00m\u001B[38;5;21;01mpdf\u001B[39;00m \u001B[38;5;28;01mimport\u001B[39;00m partition_pdf\n\u001B[0;32m     74\u001B[0m     \u001B[38;5;28;01mreturn\u001B[39;00m partition_pdf(filename\u001B[38;5;241m=\u001B[39m\u001B[38;5;28mself\u001B[39m\u001B[38;5;241m.\u001B[39mfile_path, \u001B[38;5;241m*\u001B[39m\u001B[38;5;241m*\u001B[39m\u001B[38;5;28mself\u001B[39m\u001B[38;5;241m.\u001B[39munstructured_kwargs)\n",
      "File \u001B[1;32mC:\\Code\\simulacion\\venv\\Lib\\site-packages\\unstructured\\partition\\pdf.py:14\u001B[0m\n\u001B[0;32m     12\u001B[0m \u001B[38;5;28;01mimport\u001B[39;00m \u001B[38;5;21;01mnumpy\u001B[39;00m \u001B[38;5;28;01mas\u001B[39;00m \u001B[38;5;21;01mnp\u001B[39;00m\n\u001B[0;32m     13\u001B[0m \u001B[38;5;28;01mimport\u001B[39;00m \u001B[38;5;21;01mwrapt\u001B[39;00m\n\u001B[1;32m---> 14\u001B[0m \u001B[38;5;28;01mfrom\u001B[39;00m \u001B[38;5;21;01mpdfminer\u001B[39;00m \u001B[38;5;28;01mimport\u001B[39;00m psparser\n\u001B[0;32m     15\u001B[0m \u001B[38;5;28;01mfrom\u001B[39;00m \u001B[38;5;21;01mpdfminer\u001B[39;00m\u001B[38;5;21;01m.\u001B[39;00m\u001B[38;5;21;01mlayout\u001B[39;00m \u001B[38;5;28;01mimport\u001B[39;00m LTContainer, LTImage, LTItem, LTTextBox\n\u001B[0;32m     16\u001B[0m \u001B[38;5;28;01mfrom\u001B[39;00m \u001B[38;5;21;01mpdfminer\u001B[39;00m\u001B[38;5;21;01m.\u001B[39;00m\u001B[38;5;21;01mutils\u001B[39;00m \u001B[38;5;28;01mimport\u001B[39;00m open_filename\n",
      "\u001B[1;31mModuleNotFoundError\u001B[0m: No module named 'pdfminer'"
     ]
    }
   ],
   "source": [
    "loader = UnstructuredPDFLoader('ia.pdf')\n",
    "data = loader.load()"
   ]
  },
  {
   "cell_type": "code",
   "execution_count": null,
   "id": "6f69e845",
   "metadata": {},
   "outputs": [],
   "source": [
    "print(data[0].page_content)"
   ]
  },
  {
   "cell_type": "code",
   "execution_count": null,
   "id": "785627da",
   "metadata": {},
   "outputs": [],
   "source": [
    "text_splitter = RecursiveCharacterTextSplitter(chunk_size=12000, chunk_overlap=100)\n",
    "chunks = text_splitter.split_documents(data)"
   ]
  },
  {
   "cell_type": "code",
   "execution_count": null,
   "id": "18c4581b",
   "metadata": {},
   "outputs": [],
   "source": [
    "len(chunks)"
   ]
  },
  {
   "cell_type": "code",
   "execution_count": null,
   "id": "ff24c87b",
   "metadata": {},
   "outputs": [],
   "source": [
    "llm = ChatOpenAI(temperature=0, model_name='gpt-3.5-turbo')"
   ]
  },
  {
   "cell_type": "code",
   "execution_count": null,
   "id": "96d43264",
   "metadata": {},
   "outputs": [],
   "source": [
    "chain = load_summarize_chain(\n",
    "    llm=llm,\n",
    "    chain_type='refine',\n",
    "    verbose=False\n",
    ")\n",
    "resumen = chain.run(chunks)"
   ]
  },
  {
   "cell_type": "code",
   "execution_count": null,
   "id": "5fb3583b",
   "metadata": {},
   "outputs": [],
   "source": [
    "print(resumen)"
   ]
  },
  {
   "cell_type": "markdown",
   "id": "c1469901",
   "metadata": {
    "jp-MarkdownHeadingCollapsed": true
   },
   "source": [
    "## Refine con prompt personalizados"
   ]
  },
  {
   "cell_type": "code",
   "execution_count": null,
   "id": "137db69e",
   "metadata": {},
   "outputs": [],
   "source": [
    "from langchain.chat_models import ChatOpenAI\n",
    "from langchain import PromptTemplate\n",
    "from langchain.chains.summarize import load_summarize_chain\n",
    "from langchain.text_splitter import RecursiveCharacterTextSplitter\n",
    "from langchain.document_loaders import UnstructuredPDFLoader"
   ]
  },
  {
   "cell_type": "code",
   "execution_count": null,
   "id": "0bbc438f",
   "metadata": {},
   "outputs": [],
   "source": [
    "loader = UnstructuredPDFLoader('FIFA 23 Modo Carrera.pdf')\n",
    "data = loader.load()"
   ]
  },
  {
   "cell_type": "code",
   "execution_count": null,
   "id": "527327c8",
   "metadata": {},
   "outputs": [],
   "source": [
    "text_splitter = RecursiveCharacterTextSplitter(chunk_size=2000, chunk_overlap=100)\n",
    "chunks = text_splitter.split_documents(data)"
   ]
  },
  {
   "cell_type": "code",
   "execution_count": null,
   "id": "61218d3a",
   "metadata": {},
   "outputs": [],
   "source": [
    "llm = ChatOpenAI(temperature=0, model_name='gpt-4')"
   ]
  },
  {
   "cell_type": "code",
   "execution_count": null,
   "id": "31514b48",
   "metadata": {},
   "outputs": [],
   "source": [
    "prompt_template = \"\"\"Escribe un resumen conciso de lo siguiente extrayendo la información clave:\n",
    "Text: {text}\n",
    "Resumen:\"\"\"\n",
    "prompt_inicial = PromptTemplate(template=prompt_template, input_variables=['text'])"
   ]
  },
  {
   "cell_type": "code",
   "execution_count": null,
   "id": "fed8d8d2",
   "metadata": {},
   "outputs": [],
   "source": [
    "refine_template = '''\n",
    "    Tu trabajo consiste en elaborar un resumen final.\n",
    "    He proporcionado un resumen existente hasta cierto punto: {existing_answer}.\n",
    "    Por favor, perfeccione el resumen existente con algo más de contexto a continuación.\n",
    "    ------------\n",
    "    {text}\n",
    "    ------------\n",
    "    Comience el resumen final con una \"Introducción\" que ofrezca una visión general del tema seguido\n",
    "    por los puntos más importantes (\"Bullet Ponts\"). Termina el resumen con una conslusión.\n",
    "'''\n",
    "refine_prompt = PromptTemplate(\n",
    "    template=refine_template,\n",
    "    input_variables=['existing_answer', 'text'])"
   ]
  },
  {
   "cell_type": "code",
   "execution_count": null,
   "id": "2039137a",
   "metadata": {},
   "outputs": [],
   "source": [
    "chain = load_summarize_chain(\n",
    "    llm=llm,\n",
    "    chain_type='refine',\n",
    "    question_prompt=prompt_inicial,\n",
    "    refine_prompt=refine_prompt,\n",
    "    return_intermediate_steps=False\n",
    "    \n",
    ")\n",
    "resumen = chain.run(chunks)"
   ]
  },
  {
   "cell_type": "code",
   "execution_count": null,
   "id": "9fd876b3",
   "metadata": {},
   "outputs": [],
   "source": [
    "print(resumen)"
   ]
  },
  {
   "cell_type": "markdown",
   "id": "1bdd17d8",
   "metadata": {
    "jp-MarkdownHeadingCollapsed": true
   },
   "source": [
    "## Resume usando Agentes de LangChains"
   ]
  },
  {
   "cell_type": "code",
   "execution_count": null,
   "id": "49873131",
   "metadata": {},
   "outputs": [],
   "source": [
    "from langchain.chat_models import ChatOpenAI\n",
    "from langchain.agents import initialize_agent, Tool\n",
    "from langchain.utilities import WikipediaAPIWrapper"
   ]
  },
  {
   "cell_type": "code",
   "execution_count": null,
   "id": "c9e3cce1",
   "metadata": {},
   "outputs": [],
   "source": [
    "import os\n",
    "from dotenv import load_dotenv, find_dotenv\n",
    "load_dotenv(find_dotenv(), override=True)"
   ]
  },
  {
   "cell_type": "code",
   "execution_count": null,
   "id": "a957336a",
   "metadata": {},
   "outputs": [],
   "source": [
    "llm = ChatOpenAI(temperature=0, model_name='gpt-4')\n",
    "wikipedia = WikipediaAPIWrapper()"
   ]
  },
  {
   "cell_type": "code",
   "execution_count": null,
   "id": "63a79ea8",
   "metadata": {},
   "outputs": [],
   "source": [
    "tools = [\n",
    "    Tool(\n",
    "        name=\"Wikipedia\", \n",
    "        func=wikipedia.ruu,\n",
    "        description=\"Útil para cuando necesitas obtener información de wikipedia sobre un solo tema\"\n",
    "    )\n",
    "\n",
    "]"
   ]
  },
  {
   "cell_type": "code",
   "execution_count": null,
   "id": "d31f3173",
   "metadata": {},
   "outputs": [],
   "source": [
    "agent_executor = initialize_agent(tools, llm, agent='zero-shot-react-description', verbose=True)"
   ]
  },
  {
   "cell_type": "code",
   "execution_count": null,
   "id": "b93b7623",
   "metadata": {},
   "outputs": [],
   "source": [
    "respuesta = agent_executor.run('¿Podría resumir brevemente la copa del mundo qatar 2022, quién fue el campeón y por cuánto ganaron?')"
   ]
  },
  {
   "cell_type": "code",
   "execution_count": null,
   "id": "17845e68",
   "metadata": {},
   "outputs": [],
   "source": [
    "print(respuesta)"
   ]
  },
  {
   "cell_type": "code",
   "execution_count": null,
   "id": "146eddc8",
   "metadata": {},
   "outputs": [],
   "source": []
  },
  {
   "cell_type": "code",
   "execution_count": null,
   "id": "e78e7fc5",
   "metadata": {},
   "outputs": [],
   "source": []
  }
 ],
 "metadata": {
  "kernelspec": {
   "display_name": "Python 3 (ipykernel)",
   "language": "python",
   "name": "python3"
  },
  "language_info": {
   "codemirror_mode": {
    "name": "ipython",
    "version": 3
   },
   "file_extension": ".py",
   "mimetype": "text/x-python",
   "name": "python",
   "nbconvert_exporter": "python",
   "pygments_lexer": "ipython3",
   "version": "3.12.7"
  }
 },
 "nbformat": 4,
 "nbformat_minor": 5
}
